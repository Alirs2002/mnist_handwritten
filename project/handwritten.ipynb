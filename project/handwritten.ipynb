{
 "cells": [
  {
   "cell_type": "markdown",
   "metadata": {},
   "source": [
    "In the first phase we should import our dataset"
   ]
  },
  {
   "cell_type": "code",
   "execution_count": 2,
   "metadata": {},
   "outputs": [
    {
     "name": "stderr",
     "output_type": "stream",
     "text": [
      "2023-09-10 15:51:57.492390: I tensorflow/tsl/cuda/cudart_stub.cc:28] Could not find cuda drivers on your machine, GPU will not be used.\n",
      "2023-09-10 15:51:57.827104: I tensorflow/tsl/cuda/cudart_stub.cc:28] Could not find cuda drivers on your machine, GPU will not be used.\n",
      "2023-09-10 15:51:57.828928: I tensorflow/core/platform/cpu_feature_guard.cc:182] This TensorFlow binary is optimized to use available CPU instructions in performance-critical operations.\n",
      "To enable the following instructions: AVX2 FMA, in other operations, rebuild TensorFlow with the appropriate compiler flags.\n",
      "2023-09-10 15:51:59.172802: W tensorflow/compiler/tf2tensorrt/utils/py_utils.cc:38] TF-TRT Warning: Could not find TensorRT\n"
     ]
    }
   ],
   "source": [
    "import tensorflow as tf\n",
    "import pandas as pd\n",
    "\n",
    "import matplotlib.pyplot as plt\n",
    "import numpy as np"
   ]
  },
  {
   "cell_type": "code",
   "execution_count": 3,
   "metadata": {},
   "outputs": [],
   "source": [
    "from tensorflow.keras.datasets import mnist"
   ]
  },
  {
   "cell_type": "markdown",
   "metadata": {},
   "source": [
    "Now we should consider variables for training and testing"
   ]
  },
  {
   "cell_type": "code",
   "execution_count": 4,
   "metadata": {},
   "outputs": [],
   "source": [
    "x_train_path = \"../dataset/train-images.idx3-ubyte\"\n",
    "y_train_path = \"../dataset/train-labels.idx1-ubyte\"\n",
    "x_test_path = \"../dataset/t10k-images.idx3-ubyte\"\n",
    "y_test_path = \"../dataset/t10k-labels.idx1-ubyte\""
   ]
  },
  {
   "cell_type": "code",
   "execution_count": 5,
   "metadata": {},
   "outputs": [],
   "source": [
    "import idx2numpy as idx2"
   ]
  },
  {
   "cell_type": "code",
   "execution_count": 6,
   "metadata": {},
   "outputs": [],
   "source": [
    "x_train = idx2.convert_from_file(x_train_path)"
   ]
  },
  {
   "cell_type": "code",
   "execution_count": 7,
   "metadata": {},
   "outputs": [
    {
     "data": {
      "text/plain": [
       "(60000, 28, 28)"
      ]
     },
     "execution_count": 7,
     "metadata": {},
     "output_type": "execute_result"
    }
   ],
   "source": [
    "x_train.shape"
   ]
  },
  {
   "cell_type": "code",
   "execution_count": 8,
   "metadata": {},
   "outputs": [],
   "source": [
    "y_train = idx2.convert_from_file(y_train_path)"
   ]
  },
  {
   "cell_type": "code",
   "execution_count": 9,
   "metadata": {},
   "outputs": [
    {
     "data": {
      "text/plain": [
       "(60000,)"
      ]
     },
     "execution_count": 9,
     "metadata": {},
     "output_type": "execute_result"
    }
   ],
   "source": [
    "y_train.shape"
   ]
  },
  {
   "cell_type": "code",
   "execution_count": 10,
   "metadata": {},
   "outputs": [],
   "source": [
    "x_test = idx2.convert_from_file(x_test_path)\n",
    "y_test = idx2.convert_from_file(y_test_path)"
   ]
  },
  {
   "cell_type": "code",
   "execution_count": 11,
   "metadata": {},
   "outputs": [
    {
     "data": {
      "text/plain": [
       "((10000, 28, 28), (10000,))"
      ]
     },
     "execution_count": 11,
     "metadata": {},
     "output_type": "execute_result"
    }
   ],
   "source": [
    "x_test.shape,y_test.shape"
   ]
  },
  {
   "cell_type": "markdown",
   "metadata": {},
   "source": [
    "Now lets see what is the scaling of our images"
   ]
  },
  {
   "cell_type": "code",
   "execution_count": 12,
   "metadata": {},
   "outputs": [
    {
     "data": {
      "text/plain": [
       "(0, 255)"
      ]
     },
     "execution_count": 12,
     "metadata": {},
     "output_type": "execute_result"
    }
   ],
   "source": [
    "x_train.min(),x_train.max()"
   ]
  },
  {
   "cell_type": "markdown",
   "metadata": {},
   "source": [
    "As we can see, for better performance,we should normalize our data, i mean pixels should be between 0 and 1"
   ]
  },
  {
   "cell_type": "code",
   "execution_count": 13,
   "metadata": {},
   "outputs": [],
   "source": [
    "from sklearn.preprocessing import MinMaxScaler"
   ]
  },
  {
   "cell_type": "code",
   "execution_count": 14,
   "metadata": {},
   "outputs": [],
   "source": [
    "scaler = MinMaxScaler()\n",
    "\n",
    "# by default,min max scaler does not do this operation inplace\n"
   ]
  },
  {
   "cell_type": "code",
   "execution_count": 29,
   "metadata": {},
   "outputs": [],
   "source": [
    "x_train = np.expand_dims(x_train,axis=-1)\n"
   ]
  },
  {
   "cell_type": "code",
   "execution_count": 31,
   "metadata": {},
   "outputs": [],
   "source": [
    "x_test = np.expand_dims(x_test,axis=-1)"
   ]
  },
  {
   "cell_type": "code",
   "execution_count": 30,
   "metadata": {},
   "outputs": [
    {
     "data": {
      "text/plain": [
       "<matplotlib.image.AxesImage at 0x7f7fcb862c20>"
      ]
     },
     "execution_count": 30,
     "metadata": {},
     "output_type": "execute_result"
    },
    {
     "data": {
      "image/png": "[encoded data removed]",
      "text/plain": [
       "<Figure size 504x720 with 1 Axes>"
      ]
     },
     "metadata": {
      "needs_background": "light"
     },
     "output_type": "display_data"
    }
   ],
   "source": [
    "plt.figure(figsize=(7,10))\n",
    "plt.xlabel(y_train[0])\n",
    "plt.imshow(x_train[0])"
   ]
  },
  {
   "cell_type": "code",
   "execution_count": 44,
   "metadata": {},
   "outputs": [],
   "source": [
    "import random\n",
    "\n",
    "def show_random(x_data,y_data):\n",
    "\n",
    "    # we call this function,for exploring our dataset,to see random images\n",
    "    \n",
    "    random_number = random.randint(0,len(x_data))\n",
    "    \n",
    "    plt.figure(figsize=(7,10))\n",
    "    plt.axis(True)\n",
    "    \n",
    "    plt.imshow(x_data[random_number])\n",
    "    plt.xlabel(y_data[random_number])\n",
    "    \n",
    "\n",
    "    "
   ]
  },
  {
   "cell_type": "code",
   "execution_count": 47,
   "metadata": {},
   "outputs": [
    {
     "data": {
      "image/png": "[encoded data removed]",
      "text/plain": [
       "<Figure size 504x720 with 1 Axes>"
      ]
     },
     "metadata": {
      "needs_background": "light"
     },
     "output_type": "display_data"
    }
   ],
   "source": [
    "show_random(x_train,y_train)"
   ]
  },
  {
   "cell_type": "markdown",
   "metadata": {},
   "source": [
    "now,i think we should rescal our dataset"
   ]
  },
  {
   "cell_type": "code",
   "execution_count": 89,
   "metadata": {},
   "outputs": [],
   "source": [
    "#x_train = x_train*(1./255.)\n",
    "x_test = x_test*(1./255.)\n"
   ]
  },
  {
   "cell_type": "code",
   "execution_count": 67,
   "metadata": {},
   "outputs": [],
   "source": [
    "y_train = np.expand_dims(y_train,axis=-1)\n",
    "y_test = np.expand_dims(y_test,axis=-1)"
   ]
  },
  {
   "cell_type": "markdown",
   "metadata": {},
   "source": [
    "We should one hot encode our output"
   ]
  },
  {
   "cell_type": "code",
   "execution_count": 156,
   "metadata": {},
   "outputs": [],
   "source": [
    "y_train_encoded = np.zeros(shape=(60000,10))\n",
    "y_test_encoded = np.zeros(shape=(10000,10))\n",
    "\n"
   ]
  },
  {
   "cell_type": "code",
   "execution_count": 109,
   "metadata": {},
   "outputs": [
    {
     "data": {
      "text/plain": [
       "array([[5.],\n",
       "       [0.],\n",
       "       [4.],\n",
       "       ...,\n",
       "       [5.],\n",
       "       [6.],\n",
       "       [8.]])"
      ]
     },
     "execution_count": 109,
     "metadata": {},
     "output_type": "execute_result"
    }
   ],
   "source": [
    "y_train"
   ]
  },
  {
   "cell_type": "code",
   "execution_count": 110,
   "metadata": {},
   "outputs": [
    {
     "data": {
      "text/plain": [
       "(60000, 1)"
      ]
     },
     "execution_count": 110,
     "metadata": {},
     "output_type": "execute_result"
    }
   ],
   "source": [
    "x_test.mean()\n",
    "y_train.shape"
   ]
  },
  {
   "cell_type": "code",
   "execution_count": 111,
   "metadata": {},
   "outputs": [
    {
     "data": {
      "text/plain": [
       "array([5., 0., 4., ..., 5., 6., 8.])"
      ]
     },
     "execution_count": 111,
     "metadata": {},
     "output_type": "execute_result"
    }
   ],
   "source": [
    "y_train.reshape((60000,))"
   ]
  },
  {
   "cell_type": "code",
   "execution_count": 112,
   "metadata": {},
   "outputs": [
    {
     "data": {
      "text/plain": [
       "(60000, 1)"
      ]
     },
     "execution_count": 112,
     "metadata": {},
     "output_type": "execute_result"
    }
   ],
   "source": [
    "y_train.shape"
   ]
  },
  {
   "cell_type": "code",
   "execution_count": 157,
   "metadata": {},
   "outputs": [],
   "source": [
    "for i in range(len(y_train)-1):\n",
    "    y_train_encoded[i][int(y_train[i])] = 1\n",
    "    \n",
    "for i in range(len(y_test)-1):\n",
    "    y_test_encoded[i][int(y_test[i])] = 1"
   ]
  },
  {
   "cell_type": "code",
   "execution_count": 115,
   "metadata": {},
   "outputs": [
    {
     "data": {
      "text/plain": [
       "array([4.])"
      ]
     },
     "execution_count": 115,
     "metadata": {},
     "output_type": "execute_result"
    }
   ],
   "source": [
    "y_train[2]"
   ]
  },
  {
   "cell_type": "code",
   "execution_count": 117,
   "metadata": {},
   "outputs": [
    {
     "data": {
      "text/plain": [
       "array([0., 0., 0., 0., 0., 1., 0., 0., 0., 0.])"
      ]
     },
     "execution_count": 117,
     "metadata": {},
     "output_type": "execute_result"
    }
   ],
   "source": [
    "y_train_encoded[0]"
   ]
  },
  {
   "cell_type": "code",
   "execution_count": 140,
   "metadata": {},
   "outputs": [],
   "source": [
    "model1 = tf.keras.Sequential()\n",
    "\n",
    "model1.add(tf.keras.layers.Flatten())\n",
    "\n",
    "model1.add(tf.keras.layers.Dense(8,activation=tf.keras.activations.relu))\n",
    "\n",
    "model1.add(tf.keras.layers.Dense(8,activation=tf.keras.activations.relu))\n",
    "\n",
    "model1.add(tf.keras.layers.Dense(10,activation=tf.keras.activations.softmax))"
   ]
  },
  {
   "cell_type": "markdown",
   "metadata": {},
   "source": [
    "Now we should compile the model"
   ]
  },
  {
   "cell_type": "code",
   "execution_count": 141,
   "metadata": {},
   "outputs": [],
   "source": [
    "model1.compile(loss=tf.keras.losses.categorical_crossentropy,\n",
    "               optimizer=tf.keras.optimizers.Adam(learning_rate=0.001),\n",
    "               metrics=[tf.keras.metrics.CategoricalAccuracy()])\n",
    "\n"
   ]
  },
  {
   "cell_type": "markdown",
   "metadata": {},
   "source": [
    "now we should fit the model\n",
    "\n",
    "for the first time,we just train it 100 times"
   ]
  },
  {
   "cell_type": "code",
   "execution_count": 142,
   "metadata": {},
   "outputs": [
    {
     "name": "stdout",
     "output_type": "stream",
     "text": [
      "Epoch 1/50\n",
      "1875/1875 - 3s - loss: 0.5688 - categorical_accuracy: 0.8301 - 3s/epoch - 1ms/step\n",
      "Epoch 2/50\n",
      "1875/1875 - 2s - loss: 0.3223 - categorical_accuracy: 0.9079 - 2s/epoch - 963us/step\n",
      "Epoch 3/50\n",
      "1875/1875 - 2s - loss: 0.2898 - categorical_accuracy: 0.9167 - 2s/epoch - 959us/step\n",
      "Epoch 4/50\n",
      "1875/1875 - 2s - loss: 0.2738 - categorical_accuracy: 0.9215 - 2s/epoch - 955us/step\n",
      "Epoch 5/50\n",
      "1875/1875 - 2s - loss: 0.2630 - categorical_accuracy: 0.9241 - 2s/epoch - 960us/step\n",
      "Epoch 6/50\n",
      "1875/1875 - 2s - loss: 0.2546 - categorical_accuracy: 0.9270 - 2s/epoch - 959us/step\n",
      "Epoch 7/50\n",
      "1875/1875 - 2s - loss: 0.2490 - categorical_accuracy: 0.9286 - 2s/epoch - 944us/step\n",
      "Epoch 8/50\n",
      "1875/1875 - 2s - loss: 0.2428 - categorical_accuracy: 0.9294 - 2s/epoch - 977us/step\n",
      "Epoch 9/50\n",
      "1875/1875 - 2s - loss: 0.2391 - categorical_accuracy: 0.9305 - 2s/epoch - 945us/step\n",
      "Epoch 10/50\n",
      "1875/1875 - 2s - loss: 0.2339 - categorical_accuracy: 0.9330 - 2s/epoch - 939us/step\n",
      "Epoch 11/50\n",
      "1875/1875 - 2s - loss: 0.2311 - categorical_accuracy: 0.9331 - 2s/epoch - 948us/step\n",
      "Epoch 12/50\n",
      "1875/1875 - 2s - loss: 0.2278 - categorical_accuracy: 0.9335 - 2s/epoch - 935us/step\n",
      "Epoch 13/50\n",
      "1875/1875 - 2s - loss: 0.2249 - categorical_accuracy: 0.9350 - 2s/epoch - 941us/step\n",
      "Epoch 14/50\n",
      "1875/1875 - 2s - loss: 0.2229 - categorical_accuracy: 0.9351 - 2s/epoch - 951us/step\n",
      "Epoch 15/50\n",
      "1875/1875 - 2s - loss: 0.2202 - categorical_accuracy: 0.9364 - 2s/epoch - 932us/step\n",
      "Epoch 16/50\n",
      "1875/1875 - 2s - loss: 0.2186 - categorical_accuracy: 0.9376 - 2s/epoch - 944us/step\n",
      "Epoch 17/50\n",
      "1875/1875 - 2s - loss: 0.2163 - categorical_accuracy: 0.9368 - 2s/epoch - 933us/step\n",
      "Epoch 18/50\n",
      "1875/1875 - 2s - loss: 0.2143 - categorical_accuracy: 0.9378 - 2s/epoch - 946us/step\n",
      "Epoch 19/50\n",
      "1875/1875 - 2s - loss: 0.2127 - categorical_accuracy: 0.9383 - 2s/epoch - 932us/step\n",
      "Epoch 20/50\n",
      "1875/1875 - 2s - loss: 0.2113 - categorical_accuracy: 0.9386 - 2s/epoch - 942us/step\n",
      "Epoch 21/50\n",
      "1875/1875 - 2s - loss: 0.2094 - categorical_accuracy: 0.9384 - 2s/epoch - 926us/step\n",
      "Epoch 22/50\n",
      "1875/1875 - 2s - loss: 0.2089 - categorical_accuracy: 0.9392 - 2s/epoch - 946us/step\n",
      "Epoch 23/50\n",
      "1875/1875 - 2s - loss: 0.2070 - categorical_accuracy: 0.9396 - 2s/epoch - 932us/step\n",
      "Epoch 24/50\n",
      "1875/1875 - 2s - loss: 0.2053 - categorical_accuracy: 0.9402 - 2s/epoch - 936us/step\n",
      "Epoch 25/50\n",
      "1875/1875 - 2s - loss: 0.2032 - categorical_accuracy: 0.9412 - 2s/epoch - 930us/step\n",
      "Epoch 26/50\n",
      "1875/1875 - 2s - loss: 0.2030 - categorical_accuracy: 0.9410 - 2s/epoch - 937us/step\n",
      "Epoch 27/50\n",
      "1875/1875 - 2s - loss: 0.2028 - categorical_accuracy: 0.9411 - 2s/epoch - 940us/step\n",
      "Epoch 28/50\n",
      "1875/1875 - 2s - loss: 0.2022 - categorical_accuracy: 0.9413 - 2s/epoch - 927us/step\n",
      "Epoch 29/50\n",
      "1875/1875 - 2s - loss: 0.2002 - categorical_accuracy: 0.9413 - 2s/epoch - 943us/step\n",
      "Epoch 30/50\n",
      "1875/1875 - 2s - loss: 0.1996 - categorical_accuracy: 0.9418 - 2s/epoch - 939us/step\n",
      "Epoch 31/50\n",
      "1875/1875 - 2s - loss: 0.1986 - categorical_accuracy: 0.9420 - 2s/epoch - 934us/step\n",
      "Epoch 32/50\n",
      "1875/1875 - 2s - loss: 0.1979 - categorical_accuracy: 0.9422 - 2s/epoch - 939us/step\n",
      "Epoch 33/50\n",
      "1875/1875 - 2s - loss: 0.1974 - categorical_accuracy: 0.9422 - 2s/epoch - 935us/step\n",
      "Epoch 34/50\n",
      "1875/1875 - 2s - loss: 0.1979 - categorical_accuracy: 0.9423 - 2s/epoch - 941us/step\n",
      "Epoch 35/50\n",
      "1875/1875 - 2s - loss: 0.1967 - categorical_accuracy: 0.9422 - 2s/epoch - 931us/step\n",
      "Epoch 36/50\n",
      "1875/1875 - 2s - loss: 0.1955 - categorical_accuracy: 0.9426 - 2s/epoch - 934us/step\n",
      "Epoch 37/50\n",
      "1875/1875 - 2s - loss: 0.1943 - categorical_accuracy: 0.9435 - 2s/epoch - 931us/step\n",
      "Epoch 38/50\n",
      "1875/1875 - 2s - loss: 0.1948 - categorical_accuracy: 0.9423 - 2s/epoch - 942us/step\n",
      "Epoch 39/50\n",
      "1875/1875 - 2s - loss: 0.1931 - categorical_accuracy: 0.9443 - 2s/epoch - 965us/step\n",
      "Epoch 40/50\n",
      "1875/1875 - 2s - loss: 0.1921 - categorical_accuracy: 0.9431 - 2s/epoch - 934us/step\n",
      "Epoch 41/50\n",
      "1875/1875 - 2s - loss: 0.1922 - categorical_accuracy: 0.9436 - 2s/epoch - 940us/step\n",
      "Epoch 42/50\n",
      "1875/1875 - 2s - loss: 0.1919 - categorical_accuracy: 0.9436 - 2s/epoch - 940us/step\n",
      "Epoch 43/50\n",
      "1875/1875 - 2s - loss: 0.1903 - categorical_accuracy: 0.9439 - 2s/epoch - 939us/step\n",
      "Epoch 44/50\n",
      "1875/1875 - 2s - loss: 0.1902 - categorical_accuracy: 0.9434 - 2s/epoch - 931us/step\n",
      "Epoch 45/50\n",
      "1875/1875 - 2s - loss: 0.1909 - categorical_accuracy: 0.9439 - 2s/epoch - 936us/step\n",
      "Epoch 46/50\n",
      "1875/1875 - 2s - loss: 0.1892 - categorical_accuracy: 0.9437 - 2s/epoch - 928us/step\n",
      "Epoch 47/50\n",
      "1875/1875 - 2s - loss: 0.1891 - categorical_accuracy: 0.9448 - 2s/epoch - 943us/step\n",
      "Epoch 48/50\n",
      "1875/1875 - 2s - loss: 0.1885 - categorical_accuracy: 0.9445 - 2s/epoch - 932us/step\n",
      "Epoch 49/50\n",
      "1875/1875 - 2s - loss: 0.1884 - categorical_accuracy: 0.9442 - 2s/epoch - 934us/step\n",
      "Epoch 50/50\n",
      "1875/1875 - 2s - loss: 0.1878 - categorical_accuracy: 0.9448 - 2s/epoch - 936us/step\n"
     ]
    },
    {
     "data": {
      "text/plain": [
       "<keras.src.callbacks.History at 0x7f7fcbabaaa0>"
      ]
     },
     "execution_count": 142,
     "metadata": {},
     "output_type": "execute_result"
    }
   ],
   "source": [
    "model1.fit(x_train,y_train_encoded,\n",
    "           epochs=50,\n",
    "           batch_size=32,\n",
    "           verbose=2)"
   ]
  },
  {
   "cell_type": "markdown",
   "metadata": {},
   "source": []
  },
  {
   "cell_type": "code",
   "execution_count": 143,
   "metadata": {},
   "outputs": [
    {
     "name": "stdout",
     "output_type": "stream",
     "text": [
      "313/313 [==============================] - 0s 1ms/step - loss: 12.3391 - categorical_accuracy: 0.1009\n"
     ]
    },
    {
     "data": {
      "text/plain": [
       "[12.33906078338623, 0.10090000182390213]"
      ]
     },
     "execution_count": 143,
     "metadata": {},
     "output_type": "execute_result"
    }
   ],
   "source": [
    "model1.evaluate(x_test,y_test_encoded)"
   ]
  },
  {
   "cell_type": "markdown",
   "metadata": {},
   "source": [
    "it was fucking bad :(("
   ]
  },
  {
   "cell_type": "markdown",
   "metadata": {},
   "source": [
    "A we can see,we have huge overfit,in our fucking dataset"
   ]
  },
  {
   "cell_type": "code",
   "execution_count": 144,
   "metadata": {},
   "outputs": [],
   "source": [
    "model2 = tf.keras.Sequential()\n",
    "\n",
    "model2.add(tf.keras.layers.Flatten())\n",
    "\n",
    "model2.add(tf.keras.layers.Dense(4,activation=tf.keras.activations.relu))\n",
    "\n",
    "model2.add(tf.keras.layers.Dense(4,activation=tf.keras.activations.relu))\n",
    "\n",
    "model2.add(tf.keras.layers.Dense(10,activation=tf.keras.activations.softmax))"
   ]
  },
  {
   "cell_type": "code",
   "execution_count": 146,
   "metadata": {},
   "outputs": [],
   "source": [
    "model2.compile(loss=tf.keras.losses.categorical_crossentropy,\n",
    "               optimizer=tf.keras.optimizers.Adam(learning_rate=0.001),\n",
    "               metrics=[tf.keras.metrics.CategoricalAccuracy()])\n"
   ]
  },
  {
   "cell_type": "code",
   "execution_count": 147,
   "metadata": {},
   "outputs": [
    {
     "name": "stdout",
     "output_type": "stream",
     "text": [
      "Epoch 1/10\n",
      "1875/1875 - 2s - loss: 1.1944 - categorical_accuracy: 0.5959 - 2s/epoch - 1ms/step\n",
      "Epoch 2/10\n",
      "1875/1875 - 2s - loss: 0.7120 - categorical_accuracy: 0.7913 - 2s/epoch - 973us/step\n",
      "Epoch 3/10\n",
      "1875/1875 - 2s - loss: 0.6298 - categorical_accuracy: 0.8082 - 2s/epoch - 931us/step\n",
      "Epoch 4/10\n",
      "1875/1875 - 2s - loss: 0.5857 - categorical_accuracy: 0.8230 - 2s/epoch - 943us/step\n",
      "Epoch 5/10\n",
      "1875/1875 - 2s - loss: 0.5559 - categorical_accuracy: 0.8358 - 2s/epoch - 937us/step\n",
      "Epoch 6/10\n",
      "1875/1875 - 2s - loss: 0.5389 - categorical_accuracy: 0.8412 - 2s/epoch - 912us/step\n",
      "Epoch 7/10\n",
      "1875/1875 - 2s - loss: 0.5266 - categorical_accuracy: 0.8461 - 2s/epoch - 927us/step\n",
      "Epoch 8/10\n",
      "1875/1875 - 2s - loss: 0.5179 - categorical_accuracy: 0.8484 - 2s/epoch - 928us/step\n",
      "Epoch 9/10\n",
      "1875/1875 - 2s - loss: 0.5095 - categorical_accuracy: 0.8514 - 2s/epoch - 924us/step\n",
      "Epoch 10/10\n",
      "1875/1875 - 2s - loss: 0.5036 - categorical_accuracy: 0.8538 - 2s/epoch - 917us/step\n"
     ]
    },
    {
     "data": {
      "text/plain": [
       "<keras.src.callbacks.History at 0x7f7f406faec0>"
      ]
     },
     "execution_count": 147,
     "metadata": {},
     "output_type": "execute_result"
    }
   ],
   "source": [
    "model2.fit(x_train,y_train_encoded,\n",
    "           epochs=10,\n",
    "           batch_size=32,\n",
    "           verbose=2)"
   ]
  },
  {
   "cell_type": "code",
   "execution_count": 149,
   "metadata": {},
   "outputs": [
    {
     "name": "stdout",
     "output_type": "stream",
     "text": [
      "313/313 [==============================] - 0s 933us/step - loss: 9.1292 - categorical_accuracy: 0.1009\n"
     ]
    },
    {
     "data": {
      "text/plain": [
       "[9.129180908203125, 0.10090000182390213]"
      ]
     },
     "execution_count": 149,
     "metadata": {},
     "output_type": "execute_result"
    }
   ],
   "source": [
    "model2.evaluate(x_test,y_test_encoded)"
   ]
  },
  {
   "cell_type": "markdown",
   "metadata": {},
   "source": [
    "overfitting this huge,mean there must be some problem in our fucking dataset"
   ]
  },
  {
   "cell_type": "code",
   "execution_count": 159,
   "metadata": {},
   "outputs": [
    {
     "data": {
      "image/png": "[encoded data removed]",
      "text/plain": [
       "<Figure size 504x720 with 1 Axes>"
      ]
     },
     "metadata": {
      "needs_background": "light"
     },
     "output_type": "display_data"
    }
   ],
   "source": [
    "show_random(x_test,y_test_encoded)"
   ]
  },
  {
   "cell_type": "markdown",
   "metadata": {},
   "source": [
    "I encode incorrectly\n",
    "\n",
    "that was why it showed a huge awfullness in testing"
   ]
  },
  {
   "cell_type": "markdown",
   "metadata": {},
   "source": [
    "lets train another model again"
   ]
  },
  {
   "cell_type": "code",
   "execution_count": 165,
   "metadata": {},
   "outputs": [],
   "source": [
    "model3 = tf.keras.Sequential()\n",
    "\n",
    "model3.add(tf.keras.layers.Flatten())\n",
    "\n",
    "model3.add(tf.keras.layers.Dense(8,activation=tf.keras.activations.relu))\n",
    "\n",
    "model3.add(tf.keras.layers.Dense(8,activation=tf.keras.activations.relu))\n",
    "\n",
    "model3.add(tf.keras.layers.Dense(10,activation=tf.keras.activations.softmax))"
   ]
  },
  {
   "cell_type": "code",
   "execution_count": 166,
   "metadata": {},
   "outputs": [],
   "source": [
    "model3.compile(loss=tf.keras.losses.categorical_crossentropy,\n",
    "               optimizer=tf.keras.optimizers.Adam(learning_rate=0.001),\n",
    "               metrics=[tf.keras.metrics.CategoricalAccuracy()])"
   ]
  },
  {
   "cell_type": "code",
   "execution_count": 167,
   "metadata": {},
   "outputs": [
    {
     "name": "stdout",
     "output_type": "stream",
     "text": [
      "Epoch 1/70\n",
      "1875/1875 - 2s - loss: 0.7047 - categorical_accuracy: 0.7796 - 2s/epoch - 1ms/step\n",
      "Epoch 2/70\n",
      "1875/1875 - 2s - loss: 0.3591 - categorical_accuracy: 0.8965 - 2s/epoch - 934us/step\n",
      "Epoch 3/70\n",
      "1875/1875 - 2s - loss: 0.3148 - categorical_accuracy: 0.9079 - 2s/epoch - 940us/step\n",
      "Epoch 4/70\n",
      "1875/1875 - 2s - loss: 0.2937 - categorical_accuracy: 0.9146 - 2s/epoch - 925us/step\n",
      "Epoch 5/70\n",
      "1875/1875 - 2s - loss: 0.2757 - categorical_accuracy: 0.9202 - 2s/epoch - 931us/step\n",
      "Epoch 6/70\n",
      "1875/1875 - 2s - loss: 0.2622 - categorical_accuracy: 0.9236 - 2s/epoch - 921us/step\n",
      "Epoch 7/70\n",
      "1875/1875 - 2s - loss: 0.2529 - categorical_accuracy: 0.9269 - 2s/epoch - 928us/step\n",
      "Epoch 8/70\n",
      "1875/1875 - 2s - loss: 0.2456 - categorical_accuracy: 0.9295 - 2s/epoch - 919us/step\n",
      "Epoch 9/70\n",
      "1875/1875 - 2s - loss: 0.2397 - categorical_accuracy: 0.9291 - 2s/epoch - 951us/step\n",
      "Epoch 10/70\n",
      "1875/1875 - 2s - loss: 0.2339 - categorical_accuracy: 0.9322 - 2s/epoch - 1ms/step\n",
      "Epoch 11/70\n",
      "1875/1875 - 2s - loss: 0.2298 - categorical_accuracy: 0.9334 - 2s/epoch - 923us/step\n",
      "Epoch 12/70\n",
      "1875/1875 - 2s - loss: 0.2278 - categorical_accuracy: 0.9335 - 2s/epoch - 952us/step\n",
      "Epoch 13/70\n",
      "1875/1875 - 2s - loss: 0.2244 - categorical_accuracy: 0.9353 - 2s/epoch - 916us/step\n",
      "Epoch 14/70\n",
      "1875/1875 - 2s - loss: 0.2220 - categorical_accuracy: 0.9355 - 2s/epoch - 920us/step\n",
      "Epoch 15/70\n",
      "1875/1875 - 2s - loss: 0.2197 - categorical_accuracy: 0.9361 - 2s/epoch - 1ms/step\n",
      "Epoch 16/70\n",
      "1875/1875 - 2s - loss: 0.2178 - categorical_accuracy: 0.9359 - 2s/epoch - 967us/step\n",
      "Epoch 17/70\n",
      "1875/1875 - 2s - loss: 0.2164 - categorical_accuracy: 0.9365 - 2s/epoch - 935us/step\n",
      "Epoch 18/70\n",
      "1875/1875 - 2s - loss: 0.2153 - categorical_accuracy: 0.9369 - 2s/epoch - 941us/step\n",
      "Epoch 19/70\n",
      "1875/1875 - 2s - loss: 0.2125 - categorical_accuracy: 0.9379 - 2s/epoch - 1ms/step\n",
      "Epoch 20/70\n",
      "1875/1875 - 2s - loss: 0.2117 - categorical_accuracy: 0.9382 - 2s/epoch - 1ms/step\n",
      "Epoch 21/70\n",
      "1875/1875 - 2s - loss: 0.2102 - categorical_accuracy: 0.9384 - 2s/epoch - 932us/step\n",
      "Epoch 22/70\n",
      "1875/1875 - 2s - loss: 0.2090 - categorical_accuracy: 0.9388 - 2s/epoch - 923us/step\n",
      "Epoch 23/70\n",
      "1875/1875 - 2s - loss: 0.2077 - categorical_accuracy: 0.9388 - 2s/epoch - 921us/step\n",
      "Epoch 24/70\n",
      "1875/1875 - 2s - loss: 0.2074 - categorical_accuracy: 0.9397 - 2s/epoch - 947us/step\n",
      "Epoch 25/70\n",
      "1875/1875 - 2s - loss: 0.2066 - categorical_accuracy: 0.9388 - 2s/epoch - 919us/step\n",
      "Epoch 26/70\n",
      "1875/1875 - 2s - loss: 0.2047 - categorical_accuracy: 0.9395 - 2s/epoch - 926us/step\n",
      "Epoch 27/70\n",
      "1875/1875 - 2s - loss: 0.2040 - categorical_accuracy: 0.9395 - 2s/epoch - 987us/step\n",
      "Epoch 28/70\n",
      "1875/1875 - 2s - loss: 0.2035 - categorical_accuracy: 0.9394 - 2s/epoch - 912us/step\n",
      "Epoch 29/70\n",
      "1875/1875 - 2s - loss: 0.2025 - categorical_accuracy: 0.9403 - 2s/epoch - 912us/step\n",
      "Epoch 30/70\n",
      "1875/1875 - 2s - loss: 0.2020 - categorical_accuracy: 0.9408 - 2s/epoch - 912us/step\n",
      "Epoch 31/70\n",
      "1875/1875 - 2s - loss: 0.2018 - categorical_accuracy: 0.9402 - 2s/epoch - 898us/step\n",
      "Epoch 32/70\n",
      "1875/1875 - 2s - loss: 0.2007 - categorical_accuracy: 0.9411 - 2s/epoch - 920us/step\n",
      "Epoch 33/70\n",
      "1875/1875 - 2s - loss: 0.2000 - categorical_accuracy: 0.9402 - 2s/epoch - 907us/step\n",
      "Epoch 34/70\n",
      "1875/1875 - 2s - loss: 0.1997 - categorical_accuracy: 0.9414 - 2s/epoch - 905us/step\n",
      "Epoch 35/70\n",
      "1875/1875 - 2s - loss: 0.1995 - categorical_accuracy: 0.9417 - 2s/epoch - 910us/step\n",
      "Epoch 36/70\n",
      "1875/1875 - 2s - loss: 0.1980 - categorical_accuracy: 0.9414 - 2s/epoch - 904us/step\n",
      "Epoch 37/70\n",
      "1875/1875 - 2s - loss: 0.1984 - categorical_accuracy: 0.9412 - 2s/epoch - 903us/step\n",
      "Epoch 38/70\n",
      "1875/1875 - 2s - loss: 0.1979 - categorical_accuracy: 0.9416 - 2s/epoch - 900us/step\n",
      "Epoch 39/70\n",
      "1875/1875 - 2s - loss: 0.1960 - categorical_accuracy: 0.9420 - 2s/epoch - 907us/step\n",
      "Epoch 40/70\n",
      "1875/1875 - 2s - loss: 0.1950 - categorical_accuracy: 0.9414 - 2s/epoch - 911us/step\n",
      "Epoch 41/70\n",
      "1875/1875 - 2s - loss: 0.1953 - categorical_accuracy: 0.9420 - 2s/epoch - 907us/step\n",
      "Epoch 42/70\n",
      "1875/1875 - 2s - loss: 0.1949 - categorical_accuracy: 0.9412 - 2s/epoch - 904us/step\n",
      "Epoch 43/70\n",
      "1875/1875 - 2s - loss: 0.1939 - categorical_accuracy: 0.9424 - 2s/epoch - 903us/step\n",
      "Epoch 44/70\n",
      "1875/1875 - 2s - loss: 0.1933 - categorical_accuracy: 0.9427 - 2s/epoch - 916us/step\n",
      "Epoch 45/70\n",
      "1875/1875 - 2s - loss: 0.1931 - categorical_accuracy: 0.9424 - 2s/epoch - 912us/step\n",
      "Epoch 46/70\n",
      "1875/1875 - 2s - loss: 0.1932 - categorical_accuracy: 0.9423 - 2s/epoch - 910us/step\n",
      "Epoch 47/70\n",
      "1875/1875 - 2s - loss: 0.1932 - categorical_accuracy: 0.9425 - 2s/epoch - 913us/step\n",
      "Epoch 48/70\n",
      "1875/1875 - 2s - loss: 0.1921 - categorical_accuracy: 0.9428 - 2s/epoch - 917us/step\n",
      "Epoch 49/70\n",
      "1875/1875 - 2s - loss: 0.1914 - categorical_accuracy: 0.9427 - 2s/epoch - 909us/step\n",
      "Epoch 50/70\n",
      "1875/1875 - 2s - loss: 0.1906 - categorical_accuracy: 0.9434 - 2s/epoch - 902us/step\n",
      "Epoch 51/70\n",
      "1875/1875 - 2s - loss: 0.1913 - categorical_accuracy: 0.9423 - 2s/epoch - 902us/step\n",
      "Epoch 52/70\n",
      "1875/1875 - 2s - loss: 0.1904 - categorical_accuracy: 0.9432 - 2s/epoch - 908us/step\n",
      "Epoch 53/70\n",
      "1875/1875 - 2s - loss: 0.1904 - categorical_accuracy: 0.9422 - 2s/epoch - 907us/step\n",
      "Epoch 54/70\n",
      "1875/1875 - 2s - loss: 0.1902 - categorical_accuracy: 0.9431 - 2s/epoch - 916us/step\n",
      "Epoch 55/70\n",
      "1875/1875 - 2s - loss: 0.1896 - categorical_accuracy: 0.9424 - 2s/epoch - 913us/step\n",
      "Epoch 56/70\n",
      "1875/1875 - 2s - loss: 0.1886 - categorical_accuracy: 0.9433 - 2s/epoch - 930us/step\n",
      "Epoch 57/70\n",
      "1875/1875 - 2s - loss: 0.1883 - categorical_accuracy: 0.9439 - 2s/epoch - 922us/step\n",
      "Epoch 58/70\n",
      "1875/1875 - 2s - loss: 0.1883 - categorical_accuracy: 0.9442 - 2s/epoch - 900us/step\n",
      "Epoch 59/70\n",
      "1875/1875 - 2s - loss: 0.1874 - categorical_accuracy: 0.9438 - 2s/epoch - 905us/step\n",
      "Epoch 60/70\n",
      "1875/1875 - 2s - loss: 0.1885 - categorical_accuracy: 0.9441 - 2s/epoch - 903us/step\n",
      "Epoch 61/70\n",
      "1875/1875 - 2s - loss: 0.1873 - categorical_accuracy: 0.9441 - 2s/epoch - 909us/step\n",
      "Epoch 62/70\n",
      "1875/1875 - 2s - loss: 0.1867 - categorical_accuracy: 0.9441 - 2s/epoch - 904us/step\n",
      "Epoch 63/70\n",
      "1875/1875 - 2s - loss: 0.1867 - categorical_accuracy: 0.9438 - 2s/epoch - 949us/step\n",
      "Epoch 64/70\n",
      "1875/1875 - 2s - loss: 0.1865 - categorical_accuracy: 0.9432 - 2s/epoch - 935us/step\n",
      "Epoch 65/70\n",
      "1875/1875 - 2s - loss: 0.1867 - categorical_accuracy: 0.9441 - 2s/epoch - 906us/step\n",
      "Epoch 66/70\n",
      "1875/1875 - 2s - loss: 0.1863 - categorical_accuracy: 0.9440 - 2s/epoch - 912us/step\n",
      "Epoch 67/70\n",
      "1875/1875 - 2s - loss: 0.1860 - categorical_accuracy: 0.9444 - 2s/epoch - 900us/step\n",
      "Epoch 68/70\n",
      "1875/1875 - 2s - loss: 0.1866 - categorical_accuracy: 0.9444 - 2s/epoch - 933us/step\n",
      "Epoch 69/70\n",
      "1875/1875 - 2s - loss: 0.1846 - categorical_accuracy: 0.9450 - 2s/epoch - 934us/step\n",
      "Epoch 70/70\n",
      "1875/1875 - 2s - loss: 0.1856 - categorical_accuracy: 0.9443 - 2s/epoch - 916us/step\n"
     ]
    },
    {
     "data": {
      "text/plain": [
       "<keras.src.callbacks.History at 0x7f7f49caa1d0>"
      ]
     },
     "execution_count": 167,
     "metadata": {},
     "output_type": "execute_result"
    }
   ],
   "source": [
    "model3.fit(x_train,y_train_encoded,\n",
    "           epochs=70,\n",
    "           batch_size=32,\n",
    "           verbose=2)"
   ]
  },
  {
   "cell_type": "code",
   "execution_count": 169,
   "metadata": {},
   "outputs": [
    {
     "name": "stdout",
     "output_type": "stream",
     "text": [
      "313/313 [==============================] - 0s 1ms/step - loss: 0.2465 - categorical_accuracy: 0.9307\n"
     ]
    },
    {
     "data": {
      "text/plain": [
       "[0.24648787081241608, 0.9307000041007996]"
      ]
     },
     "execution_count": 169,
     "metadata": {},
     "output_type": "execute_result"
    }
   ],
   "source": [
    "model3.evaluate(x_test,y_test_encoded)"
   ]
  },
  {
   "cell_type": "markdown",
   "metadata": {},
   "source": [
    "lets see if we can improve our accuracy"
   ]
  },
  {
   "cell_type": "code",
   "execution_count": 170,
   "metadata": {},
   "outputs": [],
   "source": [
    "model4 = tf.keras.Sequential()\n",
    "\n",
    "model4.add(tf.keras.layers.Flatten())\n",
    "\n",
    "model4.add(tf.keras.layers.Dense(10,activation=tf.keras.activations.relu))\n",
    "\n",
    "model4.add(tf.keras.layers.Dense(12,activation=tf.keras.activations.relu))\n",
    "\n",
    "model4.add(tf.keras.layers.Dense(10,activation=tf.keras.activations.softmax))"
   ]
  },
  {
   "cell_type": "code",
   "execution_count": 171,
   "metadata": {},
   "outputs": [],
   "source": [
    "model4.compile(loss=tf.keras.losses.categorical_crossentropy,\n",
    "               optimizer=tf.keras.optimizers.Adam(learning_rate=0.001),\n",
    "               metrics=[tf.keras.metrics.CategoricalAccuracy()])"
   ]
  },
  {
   "cell_type": "code",
   "execution_count": 172,
   "metadata": {},
   "outputs": [
    {
     "name": "stdout",
     "output_type": "stream",
     "text": [
      "Epoch 1/80\n",
      "1875/1875 - 2s - loss: 0.1857 - categorical_accuracy: 0.9435 - 2s/epoch - 969us/step\n",
      "Epoch 2/80\n",
      "1875/1875 - 2s - loss: 0.1845 - categorical_accuracy: 0.9449 - 2s/epoch - 939us/step\n",
      "Epoch 3/80\n",
      "1875/1875 - 2s - loss: 0.1845 - categorical_accuracy: 0.9445 - 2s/epoch - 957us/step\n",
      "Epoch 4/80\n",
      "1875/1875 - 2s - loss: 0.1853 - categorical_accuracy: 0.9447 - 2s/epoch - 959us/step\n",
      "Epoch 5/80\n",
      "1875/1875 - 2s - loss: 0.1834 - categorical_accuracy: 0.9446 - 2s/epoch - 997us/step\n",
      "Epoch 6/80\n",
      "1875/1875 - 2s - loss: 0.1838 - categorical_accuracy: 0.9447 - 2s/epoch - 922us/step\n",
      "Epoch 7/80\n",
      "1875/1875 - 2s - loss: 0.1843 - categorical_accuracy: 0.9452 - 2s/epoch - 957us/step\n",
      "Epoch 8/80\n",
      "1875/1875 - 2s - loss: 0.1836 - categorical_accuracy: 0.9448 - 2s/epoch - 932us/step\n",
      "Epoch 9/80\n",
      "1875/1875 - 2s - loss: 0.1835 - categorical_accuracy: 0.9444 - 2s/epoch - 929us/step\n",
      "Epoch 10/80\n",
      "1875/1875 - 2s - loss: 0.1830 - categorical_accuracy: 0.9447 - 2s/epoch - 917us/step\n",
      "Epoch 11/80\n",
      "1875/1875 - 2s - loss: 0.1836 - categorical_accuracy: 0.9443 - 2s/epoch - 951us/step\n",
      "Epoch 12/80\n",
      "1875/1875 - 2s - loss: 0.1832 - categorical_accuracy: 0.9445 - 2s/epoch - 922us/step\n",
      "Epoch 13/80\n",
      "1875/1875 - 2s - loss: 0.1832 - categorical_accuracy: 0.9457 - 2s/epoch - 949us/step\n",
      "Epoch 14/80\n",
      "1875/1875 - 2s - loss: 0.1828 - categorical_accuracy: 0.9448 - 2s/epoch - 946us/step\n",
      "Epoch 15/80\n",
      "1875/1875 - 2s - loss: 0.1823 - categorical_accuracy: 0.9456 - 2s/epoch - 919us/step\n",
      "Epoch 16/80\n",
      "1875/1875 - 2s - loss: 0.1818 - categorical_accuracy: 0.9452 - 2s/epoch - 921us/step\n",
      "Epoch 17/80\n",
      "1875/1875 - 2s - loss: 0.1816 - categorical_accuracy: 0.9453 - 2s/epoch - 921us/step\n",
      "Epoch 18/80\n",
      "1875/1875 - 2s - loss: 0.1825 - categorical_accuracy: 0.9455 - 2s/epoch - 913us/step\n",
      "Epoch 19/80\n",
      "1875/1875 - 2s - loss: 0.1811 - categorical_accuracy: 0.9458 - 2s/epoch - 915us/step\n",
      "Epoch 20/80\n",
      "1875/1875 - 2s - loss: 0.1821 - categorical_accuracy: 0.9448 - 2s/epoch - 923us/step\n",
      "Epoch 21/80\n",
      "1875/1875 - 2s - loss: 0.1817 - categorical_accuracy: 0.9461 - 2s/epoch - 935us/step\n",
      "Epoch 22/80\n",
      "1875/1875 - 2s - loss: 0.1819 - categorical_accuracy: 0.9450 - 2s/epoch - 910us/step\n",
      "Epoch 23/80\n",
      "1875/1875 - 2s - loss: 0.1817 - categorical_accuracy: 0.9453 - 2s/epoch - 913us/step\n",
      "Epoch 24/80\n",
      "1875/1875 - 2s - loss: 0.1809 - categorical_accuracy: 0.9459 - 2s/epoch - 910us/step\n",
      "Epoch 25/80\n",
      "1875/1875 - 2s - loss: 0.1808 - categorical_accuracy: 0.9457 - 2s/epoch - 907us/step\n",
      "Epoch 26/80\n",
      "1875/1875 - 2s - loss: 0.1809 - categorical_accuracy: 0.9460 - 2s/epoch - 908us/step\n",
      "Epoch 27/80\n",
      "1875/1875 - 2s - loss: 0.1807 - categorical_accuracy: 0.9459 - 2s/epoch - 906us/step\n",
      "Epoch 28/80\n",
      "1875/1875 - 2s - loss: 0.1816 - categorical_accuracy: 0.9452 - 2s/epoch - 909us/step\n",
      "Epoch 29/80\n",
      "1875/1875 - 2s - loss: 0.1803 - categorical_accuracy: 0.9460 - 2s/epoch - 905us/step\n",
      "Epoch 30/80\n",
      "1875/1875 - 2s - loss: 0.1801 - categorical_accuracy: 0.9460 - 2s/epoch - 915us/step\n",
      "Epoch 31/80\n",
      "1875/1875 - 2s - loss: 0.1798 - categorical_accuracy: 0.9464 - 2s/epoch - 908us/step\n",
      "Epoch 32/80\n",
      "1875/1875 - 2s - loss: 0.1805 - categorical_accuracy: 0.9464 - 2s/epoch - 907us/step\n",
      "Epoch 33/80\n",
      "1875/1875 - 2s - loss: 0.1796 - categorical_accuracy: 0.9472 - 2s/epoch - 913us/step\n",
      "Epoch 34/80\n",
      "1875/1875 - 2s - loss: 0.1803 - categorical_accuracy: 0.9461 - 2s/epoch - 906us/step\n",
      "Epoch 35/80\n",
      "1875/1875 - 2s - loss: 0.1794 - categorical_accuracy: 0.9463 - 2s/epoch - 1ms/step\n",
      "Epoch 36/80\n",
      "1875/1875 - 2s - loss: 0.1796 - categorical_accuracy: 0.9462 - 2s/epoch - 919us/step\n",
      "Epoch 37/80\n",
      "1875/1875 - 2s - loss: 0.1796 - categorical_accuracy: 0.9456 - 2s/epoch - 923us/step\n",
      "Epoch 38/80\n",
      "1875/1875 - 2s - loss: 0.1789 - categorical_accuracy: 0.9462 - 2s/epoch - 920us/step\n",
      "Epoch 39/80\n",
      "1875/1875 - 2s - loss: 0.1789 - categorical_accuracy: 0.9472 - 2s/epoch - 947us/step\n",
      "Epoch 40/80\n",
      "1875/1875 - 2s - loss: 0.1788 - categorical_accuracy: 0.9465 - 2s/epoch - 914us/step\n",
      "Epoch 41/80\n",
      "1875/1875 - 2s - loss: 0.1798 - categorical_accuracy: 0.9463 - 2s/epoch - 920us/step\n",
      "Epoch 42/80\n",
      "1875/1875 - 2s - loss: 0.1787 - categorical_accuracy: 0.9467 - 2s/epoch - 930us/step\n",
      "Epoch 43/80\n",
      "1875/1875 - 2s - loss: 0.1782 - categorical_accuracy: 0.9474 - 2s/epoch - 918us/step\n",
      "Epoch 44/80\n",
      "1875/1875 - 2s - loss: 0.1785 - categorical_accuracy: 0.9455 - 2s/epoch - 923us/step\n",
      "Epoch 45/80\n",
      "1875/1875 - 2s - loss: 0.1778 - categorical_accuracy: 0.9466 - 2s/epoch - 919us/step\n",
      "Epoch 46/80\n",
      "1875/1875 - 2s - loss: 0.1771 - categorical_accuracy: 0.9472 - 2s/epoch - 929us/step\n",
      "Epoch 47/80\n",
      "1875/1875 - 2s - loss: 0.1781 - categorical_accuracy: 0.9466 - 2s/epoch - 918us/step\n",
      "Epoch 48/80\n",
      "1875/1875 - 2s - loss: 0.1785 - categorical_accuracy: 0.9470 - 2s/epoch - 920us/step\n",
      "Epoch 49/80\n",
      "1875/1875 - 2s - loss: 0.1786 - categorical_accuracy: 0.9469 - 2s/epoch - 922us/step\n",
      "Epoch 50/80\n",
      "1875/1875 - 2s - loss: 0.1777 - categorical_accuracy: 0.9459 - 2s/epoch - 931us/step\n",
      "Epoch 51/80\n",
      "1875/1875 - 2s - loss: 0.1772 - categorical_accuracy: 0.9471 - 2s/epoch - 923us/step\n",
      "Epoch 52/80\n",
      "1875/1875 - 2s - loss: 0.1773 - categorical_accuracy: 0.9469 - 2s/epoch - 916us/step\n",
      "Epoch 53/80\n",
      "1875/1875 - 2s - loss: 0.1776 - categorical_accuracy: 0.9469 - 2s/epoch - 923us/step\n",
      "Epoch 54/80\n",
      "1875/1875 - 2s - loss: 0.1776 - categorical_accuracy: 0.9474 - 2s/epoch - 927us/step\n",
      "Epoch 55/80\n",
      "1875/1875 - 2s - loss: 0.1780 - categorical_accuracy: 0.9461 - 2s/epoch - 912us/step\n",
      "Epoch 56/80\n",
      "1875/1875 - 2s - loss: 0.1775 - categorical_accuracy: 0.9471 - 2s/epoch - 916us/step\n",
      "Epoch 57/80\n",
      "1875/1875 - 2s - loss: 0.1768 - categorical_accuracy: 0.9463 - 2s/epoch - 921us/step\n",
      "Epoch 58/80\n",
      "1875/1875 - 2s - loss: 0.1779 - categorical_accuracy: 0.9457 - 2s/epoch - 923us/step\n",
      "Epoch 59/80\n",
      "1875/1875 - 2s - loss: 0.1780 - categorical_accuracy: 0.9463 - 2s/epoch - 923us/step\n",
      "Epoch 60/80\n",
      "1875/1875 - 2s - loss: 0.1775 - categorical_accuracy: 0.9476 - 2s/epoch - 935us/step\n",
      "Epoch 61/80\n",
      "1875/1875 - 2s - loss: 0.1764 - categorical_accuracy: 0.9467 - 2s/epoch - 934us/step\n",
      "Epoch 62/80\n",
      "1875/1875 - 2s - loss: 0.1768 - categorical_accuracy: 0.9467 - 2s/epoch - 924us/step\n",
      "Epoch 63/80\n",
      "1875/1875 - 2s - loss: 0.1771 - categorical_accuracy: 0.9467 - 2s/epoch - 922us/step\n",
      "Epoch 64/80\n",
      "1875/1875 - 2s - loss: 0.1767 - categorical_accuracy: 0.9469 - 2s/epoch - 926us/step\n",
      "Epoch 65/80\n",
      "1875/1875 - 2s - loss: 0.1762 - categorical_accuracy: 0.9477 - 2s/epoch - 926us/step\n",
      "Epoch 66/80\n",
      "1875/1875 - 2s - loss: 0.1763 - categorical_accuracy: 0.9471 - 2s/epoch - 930us/step\n",
      "Epoch 67/80\n",
      "1875/1875 - 2s - loss: 0.1770 - categorical_accuracy: 0.9467 - 2s/epoch - 948us/step\n",
      "Epoch 68/80\n",
      "1875/1875 - 2s - loss: 0.1765 - categorical_accuracy: 0.9469 - 2s/epoch - 920us/step\n",
      "Epoch 69/80\n",
      "1875/1875 - 2s - loss: 0.1769 - categorical_accuracy: 0.9469 - 2s/epoch - 920us/step\n",
      "Epoch 70/80\n",
      "1875/1875 - 2s - loss: 0.1758 - categorical_accuracy: 0.9475 - 2s/epoch - 917us/step\n",
      "Epoch 71/80\n",
      "1875/1875 - 2s - loss: 0.1770 - categorical_accuracy: 0.9470 - 2s/epoch - 925us/step\n",
      "Epoch 72/80\n",
      "1875/1875 - 2s - loss: 0.1758 - categorical_accuracy: 0.9468 - 2s/epoch - 918us/step\n",
      "Epoch 73/80\n",
      "1875/1875 - 2s - loss: 0.1761 - categorical_accuracy: 0.9478 - 2s/epoch - 920us/step\n",
      "Epoch 74/80\n",
      "1875/1875 - 2s - loss: 0.1758 - categorical_accuracy: 0.9469 - 2s/epoch - 919us/step\n",
      "Epoch 75/80\n",
      "1875/1875 - 2s - loss: 0.1758 - categorical_accuracy: 0.9469 - 2s/epoch - 926us/step\n",
      "Epoch 76/80\n",
      "1875/1875 - 2s - loss: 0.1761 - categorical_accuracy: 0.9464 - 2s/epoch - 918us/step\n",
      "Epoch 77/80\n",
      "1875/1875 - 2s - loss: 0.1754 - categorical_accuracy: 0.9471 - 2s/epoch - 921us/step\n",
      "Epoch 78/80\n",
      "1875/1875 - 2s - loss: 0.1754 - categorical_accuracy: 0.9472 - 2s/epoch - 914us/step\n",
      "Epoch 79/80\n",
      "1875/1875 - 2s - loss: 0.1755 - categorical_accuracy: 0.9473 - 2s/epoch - 919us/step\n",
      "Epoch 80/80\n",
      "1875/1875 - 2s - loss: 0.1763 - categorical_accuracy: 0.9467 - 2s/epoch - 931us/step\n"
     ]
    },
    {
     "data": {
      "text/plain": [
       "<keras.src.callbacks.History at 0x7f7f51970a60>"
      ]
     },
     "execution_count": 172,
     "metadata": {},
     "output_type": "execute_result"
    }
   ],
   "source": [
    "model3.fit(x_train,y_train_encoded,\n",
    "           epochs=80,\n",
    "           batch_size=32,\n",
    "           verbose=2)"
   ]
  },
  {
   "cell_type": "code",
   "execution_count": 174,
   "metadata": {},
   "outputs": [
    {
     "name": "stdout",
     "output_type": "stream",
     "text": [
      "313/313 [==============================] - 0s 1ms/step - loss: 2.3207 - categorical_accuracy: 0.0886\n"
     ]
    },
    {
     "data": {
      "text/plain": [
       "[2.320707082748413, 0.08860000222921371]"
      ]
     },
     "execution_count": 174,
     "metadata": {},
     "output_type": "execute_result"
    }
   ],
   "source": [
    "model4.evaluate(x_test,y_test_encoded)"
   ]
  },
  {
   "cell_type": "markdown",
   "metadata": {},
   "source": [
    "as we can see the best model,was model 3 \n",
    "\n",
    "model 4 was overfitting a lot"
   ]
  },
  {
   "cell_type": "code",
   "execution_count": null,
   "metadata": {},
   "outputs": [],
   "source": []
  }
 ],
 "metadata": {
  "kernelspec": {
   "display_name": "Python 3",
   "language": "python",
   "name": "python3"
  },
  "language_info": {
   "codemirror_mode": {
    "name": "ipython",
    "version": 3
   },
   "file_extension": ".py",
   "mimetype": "text/x-python",
   "name": "python",
   "nbconvert_exporter": "python",
   "pygments_lexer": "ipython3",
   "version": "3.10.7"
  },
  "orig_nbformat": 4
 },
 "nbformat": 4,
 "nbformat_minor": 2
}
